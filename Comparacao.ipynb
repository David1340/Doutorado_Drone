{
 "cells": [
  {
   "cell_type": "code",
   "execution_count": null,
   "id": "de8e461d",
   "metadata": {},
   "outputs": [
    {
     "name": "stdout",
     "output_type": "stream",
     "text": [
      "p = 10.0 % interesting\n",
      "C = 1 patches\n"
     ]
    }
   ],
   "source": [
    "from shapely.geometry import Polygon  \n",
    "from shapely import affinity    \n",
    "import numpy as np\n",
    "import matplotlib.pyplot as plt\n",
    "from matplotlib.collections import LineCollection\n",
    "from utils import SensorCamera, CoverageNode, Tree\n",
    "from utils import lawmowerPath\n",
    "import random\n",
    "\n",
    "#random.seed(42)  # For reproducibility\n",
    "\n",
    "DJImini3Camera = SensorCamera()\n",
    "desirableGSD = 1*0.43 #cm/px\n",
    "altitude = DJImini3Camera.h_desirable(desirableGSD)/100\n",
    "width,height = DJImini3Camera.l(altitude) # dimensão horizontal do sensor para a altitude desejada\n",
    "L = 6\n",
    "poly = Polygon([(-L*height, -L*width), (L*height, -L*width), (L*height, L*width), (-L*height, L*width)])\n",
    "angle_deg = 0  # ângulo da varredura em graus (0 = horizontal, 90 = vertical)\n",
    "waypointsLawMower = lawmowerPath(poly, height, width, angle_deg)\n",
    "\n",
    "areas_de_interesse = []\n",
    "base = Polygon([(-0.1*height*L, -0.1*width*L), (0.1*height*L,-0.1*width*L), (0.1*height*L,0.1*width*L), (-0.1*height*L,0.1*width*L)])\n",
    "\n",
    "p = 10 # proporção de área de interesse em relação à área total\n",
    "c = 10 # número de patches de interesse\n",
    "base = affinity.scale(base,np.sqrt(p/c), np.sqrt(p/c), origin=(0, 0))\n",
    "cont = 0\n",
    "while len(areas_de_interesse) < c:\n",
    "    cont += 1\n",
    "    if cont > 1000:\n",
    "        cont = 0\n",
    "        areas_de_interesse = []\n",
    "    i = random.uniform(-1 + np.sqrt(p/c)*0.1, 1 - np.sqrt(p/c)*0.1)\n",
    "    j = random.uniform(-1 + np.sqrt(p/c)*0.1, 1 - np.sqrt(p/c)*0.1)     \n",
    "    poly_rand = affinity.translate(base, i*L*height, j*L*width)\n",
    "    if(not any(p.intersects(poly_rand) for p in areas_de_interesse)):\n",
    "        areas_de_interesse.append(poly_rand)\n",
    "              \n",
    "interesting_area = 0\n",
    "for area in areas_de_interesse:\n",
    "    interesting_area += poly.intersection(base).area\n",
    "interesting_area = interesting_area /poly.area\n",
    "print(\"p =\", np.round(interesting_area * 100,2), \"%\", \"interesting\")\n",
    "print(\"C =\", len(areas_de_interesse), \"patches\")\n"
   ]
  },
  {
   "cell_type": "code",
   "execution_count": 518,
   "id": "086f6bc5",
   "metadata": {},
   "outputs": [],
   "source": [
    "altitude2 = DJImini3Camera.h_desirable(4*desirableGSD)/100\n",
    "width2,height2 = DJImini3Camera.l(altitude2) # dimensão horizontal do sensor para a altitude desejada\n",
    "waypointsInitial = lawmowerPath(poly, height2, width2, angle_deg)\n",
    "\n",
    "LawnmowerTree = Tree(sensorCamera=DJImini3Camera)\n",
    "BFTree = Tree(sensorCamera=DJImini3Camera)\n",
    "DFTree = Tree(sensorCamera=DJImini3Camera)\n",
    "ShortTree = Tree(sensorCamera=DJImini3Camera)\n",
    "\n",
    "LawnmowerTree.add_fistLevel_nodes(waypointsLawMower, altitude,width,height)\n",
    "BFTree.add_fistLevel_nodes(waypointsInitial, altitude2,width2,height2)\n",
    "DFTree.add_fistLevel_nodes(waypointsInitial, altitude2,width2,height2)\n",
    "ShortTree.add_fistLevel_nodes(waypointsInitial, altitude2,width2,height2)"
   ]
  },
  {
   "cell_type": "code",
   "execution_count": 519,
   "id": "3cf36001",
   "metadata": {},
   "outputs": [],
   "source": [
    "import itertools\n",
    "\n",
    "def distancia(a, b):\n",
    "    return np.hypot(a.x - b.x, a.y - b.y)\n",
    "\n",
    "def ordem_otima_dos_filhos(pai, filhos, proximo_pai):\n",
    "    melhor_ordem = None\n",
    "    menor_distancia = float('inf')\n",
    "\n",
    "    for perm in itertools.permutations(filhos):\n",
    "        # Distância de pai → primeiro filho\n",
    "        dist = distancia(pai, perm[0])\n",
    "        # Distâncias entre filhos\n",
    "        for i in range(len(perm)-1):\n",
    "            dist += distancia(perm[i], perm[i+1])\n",
    "        # Último filho → proximo_pai\n",
    "        if(proximo_pai):\n",
    "            dist += distancia(perm[-1], proximo_pai)\n",
    "\n",
    "        if dist < menor_distancia:\n",
    "            menor_distancia = dist\n",
    "            melhor_ordem = perm\n",
    "\n",
    "    return list(melhor_ordem)\n",
    "\n",
    "\n",
    "def DeepFirst(node, areas_de_interesse, camera, min_area, nextNode = None):\n",
    "    if any(p.intersection(node.polygon).area / p.area >= min_area for p in areas_de_interesse):\n",
    "        candidatos = node.found_children_grid(camera)\n",
    "        filhos = []\n",
    "        for filho in candidatos:\n",
    "            if(any(p.intersection(filho.polygon).area / p.area >= min_area for p in areas_de_interesse)):\n",
    "                filhos.append(filho)\n",
    "        if filhos:\n",
    "            filhos = ordem_otima_dos_filhos(node,filhos,nextNode)\n",
    "        for i, filho in enumerate(filhos):\n",
    "            node.add_children(filho)\n",
    "            if(i < len(filhos) - 1):\n",
    "                DeepFirst(filho, areas_de_interesse, camera, min_area, filhos[i+1])\n",
    "            else:\n",
    "                DeepFirst(filho, areas_de_interesse, camera,min_area, nextNode)"
   ]
  },
  {
   "cell_type": "code",
   "execution_count": 520,
   "id": "b6b0e7c2",
   "metadata": {},
   "outputs": [],
   "source": [
    "min_area = 0.05\n",
    "for i, node in enumerate(DFTree.nodes):\n",
    "    if(i < len(DFTree.nodes) -1):\n",
    "        DeepFirst(node,areas_de_interesse, DJImini3Camera,min_area,DFTree.nodes[i+1])\n",
    "    else:\n",
    "        DeepFirst(node,areas_de_interesse, DJImini3Camera,min_area,None)"
   ]
  },
  {
   "cell_type": "code",
   "execution_count": 521,
   "id": "ea382a24",
   "metadata": {},
   "outputs": [],
   "source": [
    "from matplotlib.colors import LinearSegmentedColormap\n",
    "cmap_custom = LinearSegmentedColormap.from_list(\n",
    "    \"azul_verde_vermelho\",\n",
    "    [(0.0, \"blue\"), (0.5, \"green\"), (1.0, \"red\")]\n",
    ")"
   ]
  },
  {
   "cell_type": "code",
   "execution_count": 522,
   "id": "a9ac5c8f",
   "metadata": {},
   "outputs": [
    {
     "data": {
      "image/png": "[encoded data removed]",
      "text/plain": [
       "<Figure size 576x432 with 1 Axes>"
      ]
     },
     "metadata": {
      "needs_background": "light"
     },
     "output_type": "display_data"
    },
    {
     "name": "stdout",
     "output_type": "stream",
     "text": [
      "Coverage Path length (LawMower):  1.907136000000005  km\n"
     ]
    }
   ],
   "source": [
    "waypoints = np.array(waypointsLawMower)\n",
    "fig, ax = plt.subplots(figsize=(8, 6))\n",
    "waypoints_x = [wp[0] for wp in waypoints]\n",
    "waypoints_y = [wp[1] for wp in waypoints]\n",
    "ax.scatter(waypoints_x, waypoints_y, color='black', label='Waypoints', marker='o')\n",
    "ax.plot(waypoints_x, waypoints_y, color='black')\n",
    "x, y = poly.exterior.xy\n",
    "ax.plot(x, y, color='black')\n",
    "if poly.interiors:\n",
    "    for interior in poly.interiors:\n",
    "        x, y = interior.xy\n",
    "        ax.plot(x, y, color='black')\n",
    "for area in areas_de_interesse:\n",
    "    x, y = area.exterior.xy\n",
    "    ax.plot(x, y, color='Orange')\n",
    "plt.title('Trajetória do Drone')\n",
    "plt.xlabel('X (m)')\n",
    "plt.ylabel('Y (m)')\n",
    "plt.grid(True)\n",
    "plt.axis('equal')\n",
    "plt.legend()\n",
    "plt.show()\n",
    "path_length = 0\n",
    "for i in range(np.size(waypoints,0)-1):\n",
    "    path_length += np.linalg.norm(waypoints[i+1] - waypoints[i])\n",
    "print(\"Coverage Path length (LawMower): \", path_length/1000, \" km\")"
   ]
  },
  {
   "cell_type": "code",
   "execution_count": 523,
   "id": "274becb6",
   "metadata": {},
   "outputs": [
    {
     "data": {
      "image/png": "[encoded data removed]",
      "text/plain": [
       "<Figure size 576x432 with 2 Axes>"
      ]
     },
     "metadata": {
      "needs_background": "light"
     },
     "output_type": "display_data"
    },
    {
     "name": "stdout",
     "output_type": "stream",
     "text": [
      "Coverage Path length (Deep First):  0.7974739635757349  km\n"
     ]
    }
   ],
   "source": [
    "waypointsDF = []\n",
    "for node in DFTree.nodes:\n",
    "    waypointsDF.append([node.x, node.y, node.Altitude])\n",
    "    for child in node.children:\n",
    "        waypointsDF.append([child.x, child.y, child.Altitude])\n",
    "        for child2 in child.children:\n",
    "            waypointsDF.append([child2.x, child2.y, child2.Altitude])\n",
    "waypointsDF = np.array(waypointsDF)\n",
    "\n",
    "# Parâmetros\n",
    "n_interp = 10  # pontos intermediários entre cada par\n",
    "\n",
    "# Função para interpolar entre dois pontos\n",
    "def interp_segment(p1, p2, n):\n",
    "    return np.linspace(p1, p2, n, endpoint=False)\n",
    "\n",
    "# Interpolar todos os segmentos\n",
    "interp_points = []\n",
    "for i in range(len(waypointsDF) - 1):\n",
    "    segment = interp_segment(waypointsDF[i], waypointsDF[i + 1], n_interp)\n",
    "    interp_points.append(segment)\n",
    "\n",
    "# Adiciona o último ponto\n",
    "interp_points.append(waypointsDF[-1][None, :])\n",
    "# Empacota tudo\n",
    "interp_points = np.vstack(interp_points)  # (M, 3)\n",
    "xy = interp_points[:, :2]\n",
    "z = interp_points[:, 2]\n",
    "\n",
    "# Criar segmentos suaves\n",
    "points = xy.reshape(-1, 1, 2)\n",
    "segments = np.concatenate([points[:-1], points[1:]], axis=1)\n",
    "z_segment = (z[:-1] + z[1:]) / 2\n",
    "\n",
    "# Plotando\n",
    "lc = LineCollection(segments, cmap=cmap_custom, array=z_segment, linewidth=2)\n",
    "\n",
    "fig, ax = plt.subplots(figsize=(8, 6))\n",
    "ax.add_collection(lc)\n",
    "ax.scatter(waypointsDF[:, 0], waypointsDF[:, 1], c=waypointsDF[:,2], cmap=cmap_custom, s=15)\n",
    "#ax.plot(waypointsDF[:, 0], waypointsDF[:, 1], 'o', color='black', markersize=5)\n",
    "plt.colorbar(lc, ax=ax, label='Altitude (m)')\n",
    "x, y = poly.exterior.xy\n",
    "ax.plot(x, y, color='black')\n",
    "if poly.interiors:\n",
    "    for interior in poly.interiors:\n",
    "        x, y = interior.xy\n",
    "        ax.plot(x, y, color='black',alpha=0.1)\n",
    "for area_de_interesse in areas_de_interesse:\n",
    "    x, y = area_de_interesse.exterior.xy\n",
    "    plt.plot(x, y, color='orange')\n",
    "\n",
    "ax.plot()\n",
    "ax.set_aspect('equal')\n",
    "ax.grid(True)\n",
    "plt.title(\"Deep First\")\n",
    "plt.xlabel(\"X\")\n",
    "plt.ylabel(\"Y\")\n",
    "plt.show()\n",
    "path_length = 0\n",
    "for i in range(np.size(waypointsDF,0)-1):\n",
    "    path_length += np.linalg.norm(waypointsDF[i+1] - waypointsDF[i])\n",
    "print(\"Coverage Path length (Deep First): \", path_length/1000, \" km\")"
   ]
  }
 ],
 "metadata": {
  "kernelspec": {
   "display_name": "Python 3",
   "language": "python",
   "name": "python3"
  },
  "language_info": {
   "codemirror_mode": {
    "name": "ipython",
    "version": 3
   },
   "file_extension": ".py",
   "mimetype": "text/x-python",
   "name": "python",
   "nbconvert_exporter": "python",
   "pygments_lexer": "ipython3",
   "version": "3.8.3"
  }
 },
 "nbformat": 4,
 "nbformat_minor": 5
}
